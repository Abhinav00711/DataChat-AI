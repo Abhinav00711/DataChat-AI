{
 "cells": [
  {
   "cell_type": "code",
   "execution_count": 1,
   "metadata": {},
   "outputs": [
    {
     "data": {
      "text/plain": [
       "True"
      ]
     },
     "execution_count": 1,
     "metadata": {},
     "output_type": "execute_result"
    }
   ],
   "source": [
    "import os\n",
    "from dotenv import load_dotenv\n",
    "load_dotenv()"
   ]
  },
  {
   "cell_type": "code",
   "execution_count": 2,
   "metadata": {},
   "outputs": [],
   "source": [
    "google_api_key = os.getenv(\"GOOGLE_API_KEY\")"
   ]
  },
  {
   "cell_type": "code",
   "execution_count": 5,
   "metadata": {},
   "outputs": [
    {
     "name": "stdout",
     "output_type": "stream",
     "text": [
      "GOOGLE_API_KEY is set\n"
     ]
    }
   ],
   "source": [
    "if not google_api_key:\n",
    "    raise Exception(\"GOOGLE_API_KEY is not set\")\n",
    "else:\n",
    "    print(f\"GOOGLE_API_KEY is set\")"
   ]
  },
  {
   "cell_type": "code",
   "execution_count": 24,
   "metadata": {},
   "outputs": [],
   "source": [
    "from llama_index.llms.gemini import Gemini\n",
    "\n",
    "import google.generativeai as genai\n",
    "\n",
    "from llama_index.core import SimpleDirectoryReader\n",
    "\n",
    "from llama_index.core import VectorStoreIndex\n",
    "\n",
    "from IPython.display import Markdown, display\n",
    "\n",
    "from llama_index.core import Settings\n",
    "\n",
    "from llama_index.core import StorageContext, load_index_from_storage\n",
    "\n",
    "from llama_index.embeddings.gemini import GeminiEmbedding\n",
    "import warnings\n",
    "warnings.filterwarnings(\"ignore\")"
   ]
  },
  {
   "cell_type": "code",
   "execution_count": 7,
   "metadata": {},
   "outputs": [],
   "source": [
    "genai.configure(api_key=google_api_key)"
   ]
  },
  {
   "cell_type": "code",
   "execution_count": 9,
   "metadata": {},
   "outputs": [
    {
     "name": "stdout",
     "output_type": "stream",
     "text": [
      "models/chat-bison-001\n",
      "models/text-bison-001\n",
      "models/embedding-gecko-001\n",
      "models/gemini-1.0-pro-latest\n",
      "models/gemini-1.0-pro\n",
      "models/gemini-pro\n",
      "models/gemini-1.0-pro-001\n",
      "models/gemini-1.0-pro-vision-latest\n",
      "models/gemini-pro-vision\n",
      "models/gemini-1.5-pro-latest\n",
      "models/gemini-1.5-pro-001\n",
      "models/gemini-1.5-pro-002\n",
      "models/gemini-1.5-pro\n",
      "models/gemini-1.5-pro-exp-0801\n",
      "models/gemini-1.5-pro-exp-0827\n",
      "models/gemini-1.5-flash-latest\n",
      "models/gemini-1.5-flash-001\n",
      "models/gemini-1.5-flash-001-tuning\n",
      "models/gemini-1.5-flash\n",
      "models/gemini-1.5-flash-exp-0827\n",
      "models/gemini-1.5-flash-002\n",
      "models/gemini-1.5-flash-8b\n",
      "models/gemini-1.5-flash-8b-001\n",
      "models/gemini-1.5-flash-8b-latest\n",
      "models/gemini-1.5-flash-8b-exp-0827\n",
      "models/gemini-1.5-flash-8b-exp-0924\n",
      "models/gemini-2.0-flash-exp\n",
      "models/gemini-exp-1206\n",
      "models/gemini-exp-1121\n",
      "models/gemini-exp-1114\n",
      "models/gemini-2.0-flash-thinking-exp\n",
      "models/gemini-2.0-flash-thinking-exp-1219\n",
      "models/learnlm-1.5-pro-experimental\n",
      "models/embedding-001\n",
      "models/text-embedding-004\n",
      "models/aqa\n"
     ]
    }
   ],
   "source": [
    "for model in genai.list_models():\n",
    "    print(model.name)"
   ]
  },
  {
   "cell_type": "code",
   "execution_count": 10,
   "metadata": {},
   "outputs": [
    {
     "name": "stdout",
     "output_type": "stream",
     "text": [
      "models/gemini-1.0-pro-latest\n",
      "models/gemini-1.0-pro\n",
      "models/gemini-pro\n",
      "models/gemini-1.0-pro-001\n",
      "models/gemini-1.0-pro-vision-latest\n",
      "models/gemini-pro-vision\n",
      "models/gemini-1.5-pro-latest\n",
      "models/gemini-1.5-pro-001\n",
      "models/gemini-1.5-pro-002\n",
      "models/gemini-1.5-pro\n",
      "models/gemini-1.5-pro-exp-0801\n",
      "models/gemini-1.5-pro-exp-0827\n",
      "models/gemini-1.5-flash-latest\n",
      "models/gemini-1.5-flash-001\n",
      "models/gemini-1.5-flash-001-tuning\n",
      "models/gemini-1.5-flash\n",
      "models/gemini-1.5-flash-exp-0827\n",
      "models/gemini-1.5-flash-002\n",
      "models/gemini-1.5-flash-8b\n",
      "models/gemini-1.5-flash-8b-001\n",
      "models/gemini-1.5-flash-8b-latest\n",
      "models/gemini-1.5-flash-8b-exp-0827\n",
      "models/gemini-1.5-flash-8b-exp-0924\n",
      "models/gemini-2.0-flash-exp\n",
      "models/gemini-exp-1206\n",
      "models/gemini-exp-1121\n",
      "models/gemini-exp-1114\n",
      "models/gemini-2.0-flash-thinking-exp\n",
      "models/gemini-2.0-flash-thinking-exp-1219\n",
      "models/learnlm-1.5-pro-experimental\n"
     ]
    }
   ],
   "source": [
    "for model in genai.list_models():\n",
    "    if \"generateContent\" in model.supported_generation_methods:\n",
    "        print(model.name)"
   ]
  },
  {
   "cell_type": "code",
   "execution_count": 13,
   "metadata": {},
   "outputs": [],
   "source": [
    "documents = SimpleDirectoryReader(\"../Data\")"
   ]
  },
  {
   "cell_type": "code",
   "execution_count": 15,
   "metadata": {},
   "outputs": [],
   "source": [
    "doc=documents.load_data()"
   ]
  },
  {
   "cell_type": "code",
   "execution_count": 16,
   "metadata": {},
   "outputs": [
    {
     "data": {
      "text/plain": [
       "'# Abhinav Rathi - Portfolio Data\\n\\n## Personal Details\\n- Name: Abhinav Rathi\\n- Email: rathiabhinav01@gmail.com\\n- Phone: +91 9831960055\\n- LinkedIn: https://linkedin.com/in/rathiabhinav01\\n- Portfolio: https://abhinav00711.github.io/abhinavrathi/\\n- GitHub: https://github.com/Abhinav00711\\n\\n## Education\\n1. **Master of Computer Applications (MCA)** - Christ University, Bangalore (CGPA: 8.6/10)\\n   - Core Committee Member, GATEWAYS National Science Fest.\\n   - Competitive Programming Lead, GDSC.\\n   - Published Research: Multimodal Meeting Analysis (ICCICT 2024).\\n   - Runner-Up in Intel OneAPI hackathon.\\n\\n2. **Bachelor of Computer Applications (BCA)** - Christ University, Bangalore (CGPA: 9.55/10)\\n   - National Winner of The Big Bot League 3 hackathon.\\n   - Placement Coordinator, increasing campus recruitment by 5%.\\n   - Certifications: AWS Academy Graduate, Microsoft Security Fundamentals.\\n\\n## Work Experience\\n1. **Senior Associate (ML Engineer)** - Athena Education\\n   - Engineered ML solutions for diverse real-world challenges.\\n   - Improved scalability with AWS and FastAPI.\\n   - Enhanced user engagement by 20% using Streamlit and Flask.\\n\\n2. **Application Developer Intern** - BNP Paribas\\n   - Developed ML models with 90% accuracy for equity trading predictions.\\n   - Built an interactive Django-based analytics dashboard.\\n\\n3. **Android Developer Intern** - HIH7 Webtech Pvt Ltd\\n   - Boosted user engagement by 30% through UI improvements.\\n   - Conducted customer review sessions for feature enhancements.\\n\\n4. **Android Developer Intern** - Revmeup\\n   - Reduced network errors by 20%.\\n   - Enhanced app performance with Firebase and optimized APIs.\\n\\n## Skills\\n- **AI/ML Techniques**: Deep Learning, Computer Vision, NLP\\n- **Frameworks**: TensorFlow, PyTorch, Keras, MediaPipe\\n- **Tools**: LangChain, MLflow, FastAPI, AWS, Streamlit\\n- **Languages**: Java, Python, C, JavaScript, Dart\\n- **Databases**: MySQL, PostgreSQL, Firebase\\n- **Soft Skills**: Team Leadership, Critical Thinking, Decision-Making\\n\\n## Certifications\\n- Creating an Interactive Story with Flutter\\n- Problem Solving Using Computational Thinking\\n- JavaScript Algorithms and Data Structures\\n\\n## Extracurricular Activities\\n- Award of Excellence in Zeal Life Skills Training Program.\\n- 5th Kyu (Purple Belt) in Seishinkai Shito-Ryu Karate.\\n- Competed in National Karate Championships.'"
      ]
     },
     "execution_count": 16,
     "metadata": {},
     "output_type": "execute_result"
    }
   ],
   "source": [
    "doc[0].text"
   ]
  },
  {
   "cell_type": "code",
   "execution_count": 21,
   "metadata": {},
   "outputs": [],
   "source": [
    "model = Gemini(model_name=\"models/gemini-1.5-pro\",api_key=google_api_key)"
   ]
  },
  {
   "cell_type": "code",
   "execution_count": 28,
   "metadata": {},
   "outputs": [],
   "source": [
    "gemini_embed_model = GeminiEmbedding(model_name=\"models/text-embedding-004\")"
   ]
  },
  {
   "cell_type": "code",
   "execution_count": 29,
   "metadata": {},
   "outputs": [],
   "source": [
    "#Configure the settings\n",
    "Settings.llm = model\n",
    "Settings.embed_model = gemini_embed_model\n",
    "Settings.chunk_size = 800\n",
    "Settings.chunk_overlap = 20"
   ]
  },
  {
   "cell_type": "code",
   "execution_count": 30,
   "metadata": {},
   "outputs": [],
   "source": [
    "index = VectorStoreIndex.from_documents(doc, llm=model, embed_model=gemini_embed_model)"
   ]
  },
  {
   "cell_type": "code",
   "execution_count": 31,
   "metadata": {},
   "outputs": [],
   "source": [
    "index.storage_context.persist()"
   ]
  },
  {
   "cell_type": "code",
   "execution_count": 32,
   "metadata": {},
   "outputs": [],
   "source": [
    "query_engine = index.as_query_engine()"
   ]
  },
  {
   "cell_type": "code",
   "execution_count": 33,
   "metadata": {},
   "outputs": [
    {
     "name": "stdout",
     "output_type": "stream",
     "text": [
      "I hold a Master of Computer Applications (MCA) degree from Christ University, Bangalore, with a CGPA of 8.6/10. I also earned a Bachelor of Computer Applications (BCA) degree from the same university, graduating with a CGPA of 9.55/10.\n",
      "\n"
     ]
    }
   ],
   "source": [
    "response = query_engine.query(\"What is your educational background?\")\n",
    "print(response.response)"
   ]
  },
  {
   "cell_type": "code",
   "execution_count": 34,
   "metadata": {},
   "outputs": [
    {
     "name": "stdout",
     "output_type": "stream",
     "text": [
      "I've worked as a Senior Associate (ML Engineer) at Athena Education, where I engineered ML solutions, improved scalability with AWS and FastAPI, and enhanced user engagement using Streamlit and Flask.  Prior to that, I interned as an Application Developer at BNP Paribas, developing ML models for equity trading predictions and building an analytics dashboard with Django.  My other internships include roles as an Android Developer at HIH7 Webtech Pvt Ltd, where I focused on UI improvements to boost user engagement, and at Revmeup, where I worked on reducing network errors and enhancing app performance using Firebase and optimized APIs.\n",
      "\n"
     ]
    }
   ],
   "source": [
    "response = query_engine.query(\"Tell me about your work experience.\")\n",
    "print(response.response)"
   ]
  },
  {
   "cell_type": "code",
   "execution_count": 35,
   "metadata": {},
   "outputs": [
    {
     "name": "stdout",
     "output_type": "stream",
     "text": [
      "The provided information does not contain details about family.\n",
      "\n"
     ]
    }
   ],
   "source": [
    "response = query_engine.query(\"Tell me about your family.\")\n",
    "print(response.response)"
   ]
  }
 ],
 "metadata": {
  "kernelspec": {
   "display_name": "ragenv",
   "language": "python",
   "name": "python3"
  },
  "language_info": {
   "codemirror_mode": {
    "name": "ipython",
    "version": 3
   },
   "file_extension": ".py",
   "mimetype": "text/x-python",
   "name": "python",
   "nbconvert_exporter": "python",
   "pygments_lexer": "ipython3",
   "version": "3.9.13"
  }
 },
 "nbformat": 4,
 "nbformat_minor": 2
}
